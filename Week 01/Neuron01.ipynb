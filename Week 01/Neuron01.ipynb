{
 "cells": [
  {
   "cell_type": "markdown",
   "metadata": {},
   "source": [
    "# Forward Pass\n",
    "**Data propagation (input -> output)**\n",
    "* **Building Neurons with 3 inputs and sigmoid as the activation function**"
   ]
  },
  {
   "cell_type": "code",
   "execution_count": 29,
   "metadata": {},
   "outputs": [],
   "source": [
    "import numpy as np\n",
    "import math\n",
    "\n",
    "class Neuron:\n",
    "    def __init__(self, num_Inputs):\n",
    "        self.weights = [0.5] * num_Inputs\n",
    "        self.bias = 0\n",
    "        \n",
    "    def sigmoid(self, x):\n",
    "        return 1 / (1 + math.exp(-x))\n",
    "    \n",
    "    def activate(self, inputs):\n",
    "        # Calculate the weighted sum of input and bias\n",
    "        weighted_sum = np.dot(inputs,  self.weights) + self.bias\n",
    "        print(weighted_sum)\n",
    "        \n",
    "        # Apply the activation function\n",
    "        output = self.sigmoid(weighted_sum)\n",
    "        \n",
    "        return output"
   ]
  },
  {
   "cell_type": "code",
   "execution_count": 30,
   "metadata": {},
   "outputs": [
    {
     "name": "stdout",
     "output_type": "stream",
     "text": [
      "7.5\n",
      "0.9994472213630764\n"
     ]
    }
   ],
   "source": [
    "neuron = Neuron(3)\n",
    "inputs = [4, 5, 6]\n",
    "output = neuron.activate(inputs)\n",
    "print(output)\n"
   ]
  },
  {
   "cell_type": "markdown",
   "metadata": {},
   "source": [
    "* **With 5 inputs and ReLu as the activation function**"
   ]
  },
  {
   "cell_type": "code",
   "execution_count": 31,
   "metadata": {},
   "outputs": [],
   "source": [
    "import numpy as np\n",
    "import math\n",
    "\n",
    "class Neuron:\n",
    "    def __init__(self, num_Inputs):\n",
    "        self.weights = [0.5] * num_Inputs\n",
    "        self.bias = 0\n",
    "        \n",
    "    def ReLu(self, x):\n",
    "        if x > 0:\n",
    "            return x\n",
    "        else:\n",
    "            return 0\n",
    "    \n",
    "    def activate(self, inputs):\n",
    "        # Calculate the weighted sum of input and bias\n",
    "        weighted_sum = np.dot(inputs,  self.weights) + self.bias\n",
    "        print(weighted_sum)\n",
    "        \n",
    "        # Apply the activation function\n",
    "        output = self.ReLu(weighted_sum)\n",
    "        \n",
    "        return output"
   ]
  },
  {
   "cell_type": "code",
   "execution_count": 32,
   "metadata": {},
   "outputs": [
    {
     "name": "stdout",
     "output_type": "stream",
     "text": [
      "4.45\n",
      "4.45\n"
     ]
    }
   ],
   "source": [
    "neuron = Neuron(5)\n",
    "inputs = [0.1, 0.3, 0.5, 2, 6]\n",
    "output = neuron.activate(inputs)\n",
    "print(output)"
   ]
  },
  {
   "cell_type": "markdown",
   "metadata": {},
   "source": [
    "* **Now**  \n",
    "\n",
    "**1.   Instead of prdefined weight initiate with random weight**<br>\n",
    "**2.   Instead of giving the class the number of input give the class input directly**<br>\n",
    "**3.   Add option to select the prefered activation funtion**"
   ]
  },
  {
   "cell_type": "code",
   "execution_count": 33,
   "metadata": {},
   "outputs": [],
   "source": [
    "import numpy as np\n",
    "import math\n",
    "\n",
    "class Neuron:\n",
    "    def __init__(self, inputs):\n",
    "        self.input = inputs\n",
    "        self.weights = np.random.random(len(inputs))\n",
    "        self.bias = np.random.random(1)\n",
    "        \n",
    "    def sigmoid(self, x):\n",
    "        return 1 / (1 + math.exp(-x))\n",
    "        \n",
    "    def ReLu(self, x):\n",
    "        if x > 0:\n",
    "            return x\n",
    "        else:\n",
    "            return 0\n",
    "    \n",
    "    def activate(self):\n",
    "        # Calculate the weighted sum of input and bias\n",
    "        weighted_sum = np.dot(self.input,  self.weights) + self.bias\n",
    "        print(weighted_sum)\n",
    "        \n",
    "        # Apply the activation function\n",
    "        output = self.ReLu(weighted_sum)\n",
    "        \n",
    "        return output"
   ]
  },
  {
   "cell_type": "code",
   "execution_count": 34,
   "metadata": {},
   "outputs": [
    {
     "name": "stdout",
     "output_type": "stream",
     "text": [
      "[3.64379659]\n",
      "[3.64379659]\n"
     ]
    }
   ],
   "source": [
    "inputs = [0.5, 0.7, 2]\n",
    "neuron = Neuron(inputs)\n",
    "output = neuron.activate()\n",
    "print(output)"
   ]
  },
  {
   "cell_type": "code",
   "execution_count": null,
   "metadata": {},
   "outputs": [],
   "source": []
  }
 ],
 "metadata": {
  "kernelspec": {
   "display_name": "Python 3",
   "language": "python",
   "name": "python3"
  },
  "language_info": {
   "codemirror_mode": {
    "name": "ipython",
    "version": 3
   },
   "file_extension": ".py",
   "mimetype": "text/x-python",
   "name": "python",
   "nbconvert_exporter": "python",
   "pygments_lexer": "ipython3",
   "version": "3.11.9"
  }
 },
 "nbformat": 4,
 "nbformat_minor": 2
}
